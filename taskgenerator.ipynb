{
 "cells": [
  {
   "cell_type": "code",
   "execution_count": 5,
   "metadata": {},
   "outputs": [],
   "source": [
    "import os\n",
    "import random\n",
    "\n",
    "def generate_task_file_entries_multi(timit_root, num_entries=50000, files_per_entry=2):\n",
    "\n",
    "    dr_folders = [dr for dr in os.listdir(timit_root) if os.path.isdir(os.path.join(timit_root, dr))]\n",
    "    entries = []\n",
    "\n",
    "    for _ in range(num_entries):\n",
    "        entry_files = []\n",
    "        selected_drs = random.sample(dr_folders, files_per_entry)  # Choose unique DRs for diversity\n",
    "\n",
    "        for dr in selected_drs:\n",
    "            speakers = os.listdir(os.path.join(timit_root, dr))\n",
    "            speaker = random.choice(speakers)\n",
    "            wav_files = [f for f in os.listdir(os.path.join(timit_root, dr, speaker)) if f.endswith('.WAV')]\n",
    "            wav_file = random.choice(wav_files)\n",
    "            entry_files.append(f\"\\\\\\\\Jupyter\\\\\\\\SoundMixer\\\\\\\\TIMIT\\\\\\\\TRAIN\\\\\\\\\" f\"{dr}\\\\\\\\{speaker}\\\\\\\\{wav_file} 0\")\n",
    "\n",
    "        # Join all selected files into a single entry\n",
    "        entry = \" \".join(entry_files)\n",
    "        entries.append(entry)\n",
    "    \n",
    "    return entries"
   ]
  },
  {
   "cell_type": "code",
   "execution_count": 6,
   "metadata": {},
   "outputs": [
    {
     "name": "stdout",
     "output_type": "stream",
     "text": [
      "Entries have been saved to 2Speakers50K.txt\n"
     ]
    }
   ],
   "source": [
    "timit_root = 'G:\\Jupyter\\SoundMixer\\TIMIT\\TRAIN'\n",
    "entries = generate_task_file_entries_multi(timit_root)\n",
    "\n",
    "task_file_path = '2Speakers50K.txt'\n",
    "\n",
    "with open(task_file_path, 'w') as file:\n",
    "    for entry in entries:\n",
    "        file.write(entry + '\\n')\n",
    "\n",
    "print(f\"Entries have been saved to {task_file_path}\")"
   ]
  },
  {
   "cell_type": "code",
   "execution_count": null,
   "metadata": {},
   "outputs": [],
   "source": []
  }
 ],
 "metadata": {
  "kernelspec": {
   "display_name": "Python 3",
   "language": "python",
   "name": "python3"
  },
  "language_info": {
   "codemirror_mode": {
    "name": "ipython",
    "version": 3
   },
   "file_extension": ".py",
   "mimetype": "text/x-python",
   "name": "python",
   "nbconvert_exporter": "python",
   "pygments_lexer": "ipython3",
   "version": "3.8.3"
  }
 },
 "nbformat": 4,
 "nbformat_minor": 2
}
